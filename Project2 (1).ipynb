{
  "nbformat": 4,
  "nbformat_minor": 0,
  "metadata": {
    "colab": {
      "provenance": []
    },
    "kernelspec": {
      "name": "python3",
      "display_name": "Python 3"
    },
    "language_info": {
      "name": "python"
    }
  },
  "cells": [
    {
      "cell_type": "markdown",
      "source": [
        "Project 2."
      ],
      "metadata": {
        "id": "hDuGhcTJHBD9"
      }
    },
    {
      "cell_type": "code",
      "source": [
        "# import necessary libraries\n",
        "import pandas as pd\n",
        "import numpy as np\n",
        "import scipy.stats as stats\n",
        "import matplotlib.pyplot as plt\n",
        "import seaborn as sns\n"
      ],
      "metadata": {
        "id": "anvCxL-OG9zc"
      },
      "execution_count": 257,
      "outputs": []
    },
    {
      "cell_type": "code",
      "source": [
        "# Loading the dataset\n",
        "data = pd.read_csv('/content/project_2_data.csv')\n",
        "data.head()"
      ],
      "metadata": {
        "id": "MVk1v5QHHeRP",
        "colab": {
          "base_uri": "https://localhost:8080/",
          "height": 256
        },
        "outputId": "f483bfd3-df0c-4269-bf1a-759acac0e310"
      },
      "execution_count": 258,
      "outputs": [
        {
          "output_type": "execute_result",
          "data": {
            "text/plain": [
              "   Id  MSSubClass MSZoning  LotFrontage  LotArea Street Alley LotShape  \\\n",
              "0   1          60       RL         65.0     8450   Pave   NaN      Reg   \n",
              "1   2          20       RL         80.0     9600   Pave   NaN      Reg   \n",
              "2   3          60       RL         68.0    11250   Pave   NaN      IR1   \n",
              "3   4          70       RL         60.0     9550   Pave   NaN      IR1   \n",
              "4   5          60       RL         84.0    14260   Pave   NaN      IR1   \n",
              "\n",
              "  LandContour Utilities  ... PoolArea PoolQC Fence MiscFeature MiscVal MoSold  \\\n",
              "0         Lvl    AllPub  ...        0    NaN   NaN         NaN       0      2   \n",
              "1         Lvl    AllPub  ...        0    NaN   NaN         NaN       0      5   \n",
              "2         Lvl    AllPub  ...        0    NaN   NaN         NaN       0      9   \n",
              "3         Lvl    AllPub  ...        0    NaN   NaN         NaN       0      2   \n",
              "4         Lvl    AllPub  ...        0    NaN   NaN         NaN       0     12   \n",
              "\n",
              "  YrSold  SaleType  SaleCondition  SalePrice  \n",
              "0   2008        WD         Normal     208500  \n",
              "1   2007        WD         Normal     181500  \n",
              "2   2008        WD         Normal     223500  \n",
              "3   2006        WD        Abnorml     140000  \n",
              "4   2008        WD         Normal     250000  \n",
              "\n",
              "[5 rows x 81 columns]"
            ],
            "text/html": [
              "\n",
              "  <div id=\"df-3b816c88-c52d-46fb-9b81-11c237de6a9d\" class=\"colab-df-container\">\n",
              "    <div>\n",
              "<style scoped>\n",
              "    .dataframe tbody tr th:only-of-type {\n",
              "        vertical-align: middle;\n",
              "    }\n",
              "\n",
              "    .dataframe tbody tr th {\n",
              "        vertical-align: top;\n",
              "    }\n",
              "\n",
              "    .dataframe thead th {\n",
              "        text-align: right;\n",
              "    }\n",
              "</style>\n",
              "<table border=\"1\" class=\"dataframe\">\n",
              "  <thead>\n",
              "    <tr style=\"text-align: right;\">\n",
              "      <th></th>\n",
              "      <th>Id</th>\n",
              "      <th>MSSubClass</th>\n",
              "      <th>MSZoning</th>\n",
              "      <th>LotFrontage</th>\n",
              "      <th>LotArea</th>\n",
              "      <th>Street</th>\n",
              "      <th>Alley</th>\n",
              "      <th>LotShape</th>\n",
              "      <th>LandContour</th>\n",
              "      <th>Utilities</th>\n",
              "      <th>...</th>\n",
              "      <th>PoolArea</th>\n",
              "      <th>PoolQC</th>\n",
              "      <th>Fence</th>\n",
              "      <th>MiscFeature</th>\n",
              "      <th>MiscVal</th>\n",
              "      <th>MoSold</th>\n",
              "      <th>YrSold</th>\n",
              "      <th>SaleType</th>\n",
              "      <th>SaleCondition</th>\n",
              "      <th>SalePrice</th>\n",
              "    </tr>\n",
              "  </thead>\n",
              "  <tbody>\n",
              "    <tr>\n",
              "      <th>0</th>\n",
              "      <td>1</td>\n",
              "      <td>60</td>\n",
              "      <td>RL</td>\n",
              "      <td>65.0</td>\n",
              "      <td>8450</td>\n",
              "      <td>Pave</td>\n",
              "      <td>NaN</td>\n",
              "      <td>Reg</td>\n",
              "      <td>Lvl</td>\n",
              "      <td>AllPub</td>\n",
              "      <td>...</td>\n",
              "      <td>0</td>\n",
              "      <td>NaN</td>\n",
              "      <td>NaN</td>\n",
              "      <td>NaN</td>\n",
              "      <td>0</td>\n",
              "      <td>2</td>\n",
              "      <td>2008</td>\n",
              "      <td>WD</td>\n",
              "      <td>Normal</td>\n",
              "      <td>208500</td>\n",
              "    </tr>\n",
              "    <tr>\n",
              "      <th>1</th>\n",
              "      <td>2</td>\n",
              "      <td>20</td>\n",
              "      <td>RL</td>\n",
              "      <td>80.0</td>\n",
              "      <td>9600</td>\n",
              "      <td>Pave</td>\n",
              "      <td>NaN</td>\n",
              "      <td>Reg</td>\n",
              "      <td>Lvl</td>\n",
              "      <td>AllPub</td>\n",
              "      <td>...</td>\n",
              "      <td>0</td>\n",
              "      <td>NaN</td>\n",
              "      <td>NaN</td>\n",
              "      <td>NaN</td>\n",
              "      <td>0</td>\n",
              "      <td>5</td>\n",
              "      <td>2007</td>\n",
              "      <td>WD</td>\n",
              "      <td>Normal</td>\n",
              "      <td>181500</td>\n",
              "    </tr>\n",
              "    <tr>\n",
              "      <th>2</th>\n",
              "      <td>3</td>\n",
              "      <td>60</td>\n",
              "      <td>RL</td>\n",
              "      <td>68.0</td>\n",
              "      <td>11250</td>\n",
              "      <td>Pave</td>\n",
              "      <td>NaN</td>\n",
              "      <td>IR1</td>\n",
              "      <td>Lvl</td>\n",
              "      <td>AllPub</td>\n",
              "      <td>...</td>\n",
              "      <td>0</td>\n",
              "      <td>NaN</td>\n",
              "      <td>NaN</td>\n",
              "      <td>NaN</td>\n",
              "      <td>0</td>\n",
              "      <td>9</td>\n",
              "      <td>2008</td>\n",
              "      <td>WD</td>\n",
              "      <td>Normal</td>\n",
              "      <td>223500</td>\n",
              "    </tr>\n",
              "    <tr>\n",
              "      <th>3</th>\n",
              "      <td>4</td>\n",
              "      <td>70</td>\n",
              "      <td>RL</td>\n",
              "      <td>60.0</td>\n",
              "      <td>9550</td>\n",
              "      <td>Pave</td>\n",
              "      <td>NaN</td>\n",
              "      <td>IR1</td>\n",
              "      <td>Lvl</td>\n",
              "      <td>AllPub</td>\n",
              "      <td>...</td>\n",
              "      <td>0</td>\n",
              "      <td>NaN</td>\n",
              "      <td>NaN</td>\n",
              "      <td>NaN</td>\n",
              "      <td>0</td>\n",
              "      <td>2</td>\n",
              "      <td>2006</td>\n",
              "      <td>WD</td>\n",
              "      <td>Abnorml</td>\n",
              "      <td>140000</td>\n",
              "    </tr>\n",
              "    <tr>\n",
              "      <th>4</th>\n",
              "      <td>5</td>\n",
              "      <td>60</td>\n",
              "      <td>RL</td>\n",
              "      <td>84.0</td>\n",
              "      <td>14260</td>\n",
              "      <td>Pave</td>\n",
              "      <td>NaN</td>\n",
              "      <td>IR1</td>\n",
              "      <td>Lvl</td>\n",
              "      <td>AllPub</td>\n",
              "      <td>...</td>\n",
              "      <td>0</td>\n",
              "      <td>NaN</td>\n",
              "      <td>NaN</td>\n",
              "      <td>NaN</td>\n",
              "      <td>0</td>\n",
              "      <td>12</td>\n",
              "      <td>2008</td>\n",
              "      <td>WD</td>\n",
              "      <td>Normal</td>\n",
              "      <td>250000</td>\n",
              "    </tr>\n",
              "  </tbody>\n",
              "</table>\n",
              "<p>5 rows × 81 columns</p>\n",
              "</div>\n",
              "    <div class=\"colab-df-buttons\">\n",
              "\n",
              "  <div class=\"colab-df-container\">\n",
              "    <button class=\"colab-df-convert\" onclick=\"convertToInteractive('df-3b816c88-c52d-46fb-9b81-11c237de6a9d')\"\n",
              "            title=\"Convert this dataframe to an interactive table.\"\n",
              "            style=\"display:none;\">\n",
              "\n",
              "  <svg xmlns=\"http://www.w3.org/2000/svg\" height=\"24px\" viewBox=\"0 -960 960 960\">\n",
              "    <path d=\"M120-120v-720h720v720H120Zm60-500h600v-160H180v160Zm220 220h160v-160H400v160Zm0 220h160v-160H400v160ZM180-400h160v-160H180v160Zm440 0h160v-160H620v160ZM180-180h160v-160H180v160Zm440 0h160v-160H620v160Z\"/>\n",
              "  </svg>\n",
              "    </button>\n",
              "\n",
              "  <style>\n",
              "    .colab-df-container {\n",
              "      display:flex;\n",
              "      gap: 12px;\n",
              "    }\n",
              "\n",
              "    .colab-df-convert {\n",
              "      background-color: #E8F0FE;\n",
              "      border: none;\n",
              "      border-radius: 50%;\n",
              "      cursor: pointer;\n",
              "      display: none;\n",
              "      fill: #1967D2;\n",
              "      height: 32px;\n",
              "      padding: 0 0 0 0;\n",
              "      width: 32px;\n",
              "    }\n",
              "\n",
              "    .colab-df-convert:hover {\n",
              "      background-color: #E2EBFA;\n",
              "      box-shadow: 0px 1px 2px rgba(60, 64, 67, 0.3), 0px 1px 3px 1px rgba(60, 64, 67, 0.15);\n",
              "      fill: #174EA6;\n",
              "    }\n",
              "\n",
              "    .colab-df-buttons div {\n",
              "      margin-bottom: 4px;\n",
              "    }\n",
              "\n",
              "    [theme=dark] .colab-df-convert {\n",
              "      background-color: #3B4455;\n",
              "      fill: #D2E3FC;\n",
              "    }\n",
              "\n",
              "    [theme=dark] .colab-df-convert:hover {\n",
              "      background-color: #434B5C;\n",
              "      box-shadow: 0px 1px 3px 1px rgba(0, 0, 0, 0.15);\n",
              "      filter: drop-shadow(0px 1px 2px rgba(0, 0, 0, 0.3));\n",
              "      fill: #FFFFFF;\n",
              "    }\n",
              "  </style>\n",
              "\n",
              "    <script>\n",
              "      const buttonEl =\n",
              "        document.querySelector('#df-3b816c88-c52d-46fb-9b81-11c237de6a9d button.colab-df-convert');\n",
              "      buttonEl.style.display =\n",
              "        google.colab.kernel.accessAllowed ? 'block' : 'none';\n",
              "\n",
              "      async function convertToInteractive(key) {\n",
              "        const element = document.querySelector('#df-3b816c88-c52d-46fb-9b81-11c237de6a9d');\n",
              "        const dataTable =\n",
              "          await google.colab.kernel.invokeFunction('convertToInteractive',\n",
              "                                                    [key], {});\n",
              "        if (!dataTable) return;\n",
              "\n",
              "        const docLinkHtml = 'Like what you see? Visit the ' +\n",
              "          '<a target=\"_blank\" href=https://colab.research.google.com/notebooks/data_table.ipynb>data table notebook</a>'\n",
              "          + ' to learn more about interactive tables.';\n",
              "        element.innerHTML = '';\n",
              "        dataTable['output_type'] = 'display_data';\n",
              "        await google.colab.output.renderOutput(dataTable, element);\n",
              "        const docLink = document.createElement('div');\n",
              "        docLink.innerHTML = docLinkHtml;\n",
              "        element.appendChild(docLink);\n",
              "      }\n",
              "    </script>\n",
              "  </div>\n",
              "\n",
              "\n",
              "<div id=\"df-12c26420-4b5f-4ab1-a170-7f5502218071\">\n",
              "  <button class=\"colab-df-quickchart\" onclick=\"quickchart('df-12c26420-4b5f-4ab1-a170-7f5502218071')\"\n",
              "            title=\"Suggest charts\"\n",
              "            style=\"display:none;\">\n",
              "\n",
              "<svg xmlns=\"http://www.w3.org/2000/svg\" height=\"24px\"viewBox=\"0 0 24 24\"\n",
              "     width=\"24px\">\n",
              "    <g>\n",
              "        <path d=\"M19 3H5c-1.1 0-2 .9-2 2v14c0 1.1.9 2 2 2h14c1.1 0 2-.9 2-2V5c0-1.1-.9-2-2-2zM9 17H7v-7h2v7zm4 0h-2V7h2v10zm4 0h-2v-4h2v4z\"/>\n",
              "    </g>\n",
              "</svg>\n",
              "  </button>\n",
              "\n",
              "<style>\n",
              "  .colab-df-quickchart {\n",
              "      --bg-color: #E8F0FE;\n",
              "      --fill-color: #1967D2;\n",
              "      --hover-bg-color: #E2EBFA;\n",
              "      --hover-fill-color: #174EA6;\n",
              "      --disabled-fill-color: #AAA;\n",
              "      --disabled-bg-color: #DDD;\n",
              "  }\n",
              "\n",
              "  [theme=dark] .colab-df-quickchart {\n",
              "      --bg-color: #3B4455;\n",
              "      --fill-color: #D2E3FC;\n",
              "      --hover-bg-color: #434B5C;\n",
              "      --hover-fill-color: #FFFFFF;\n",
              "      --disabled-bg-color: #3B4455;\n",
              "      --disabled-fill-color: #666;\n",
              "  }\n",
              "\n",
              "  .colab-df-quickchart {\n",
              "    background-color: var(--bg-color);\n",
              "    border: none;\n",
              "    border-radius: 50%;\n",
              "    cursor: pointer;\n",
              "    display: none;\n",
              "    fill: var(--fill-color);\n",
              "    height: 32px;\n",
              "    padding: 0;\n",
              "    width: 32px;\n",
              "  }\n",
              "\n",
              "  .colab-df-quickchart:hover {\n",
              "    background-color: var(--hover-bg-color);\n",
              "    box-shadow: 0 1px 2px rgba(60, 64, 67, 0.3), 0 1px 3px 1px rgba(60, 64, 67, 0.15);\n",
              "    fill: var(--button-hover-fill-color);\n",
              "  }\n",
              "\n",
              "  .colab-df-quickchart-complete:disabled,\n",
              "  .colab-df-quickchart-complete:disabled:hover {\n",
              "    background-color: var(--disabled-bg-color);\n",
              "    fill: var(--disabled-fill-color);\n",
              "    box-shadow: none;\n",
              "  }\n",
              "\n",
              "  .colab-df-spinner {\n",
              "    border: 2px solid var(--fill-color);\n",
              "    border-color: transparent;\n",
              "    border-bottom-color: var(--fill-color);\n",
              "    animation:\n",
              "      spin 1s steps(1) infinite;\n",
              "  }\n",
              "\n",
              "  @keyframes spin {\n",
              "    0% {\n",
              "      border-color: transparent;\n",
              "      border-bottom-color: var(--fill-color);\n",
              "      border-left-color: var(--fill-color);\n",
              "    }\n",
              "    20% {\n",
              "      border-color: transparent;\n",
              "      border-left-color: var(--fill-color);\n",
              "      border-top-color: var(--fill-color);\n",
              "    }\n",
              "    30% {\n",
              "      border-color: transparent;\n",
              "      border-left-color: var(--fill-color);\n",
              "      border-top-color: var(--fill-color);\n",
              "      border-right-color: var(--fill-color);\n",
              "    }\n",
              "    40% {\n",
              "      border-color: transparent;\n",
              "      border-right-color: var(--fill-color);\n",
              "      border-top-color: var(--fill-color);\n",
              "    }\n",
              "    60% {\n",
              "      border-color: transparent;\n",
              "      border-right-color: var(--fill-color);\n",
              "    }\n",
              "    80% {\n",
              "      border-color: transparent;\n",
              "      border-right-color: var(--fill-color);\n",
              "      border-bottom-color: var(--fill-color);\n",
              "    }\n",
              "    90% {\n",
              "      border-color: transparent;\n",
              "      border-bottom-color: var(--fill-color);\n",
              "    }\n",
              "  }\n",
              "</style>\n",
              "\n",
              "  <script>\n",
              "    async function quickchart(key) {\n",
              "      const quickchartButtonEl =\n",
              "        document.querySelector('#' + key + ' button');\n",
              "      quickchartButtonEl.disabled = true;  // To prevent multiple clicks.\n",
              "      quickchartButtonEl.classList.add('colab-df-spinner');\n",
              "      try {\n",
              "        const charts = await google.colab.kernel.invokeFunction(\n",
              "            'suggestCharts', [key], {});\n",
              "      } catch (error) {\n",
              "        console.error('Error during call to suggestCharts:', error);\n",
              "      }\n",
              "      quickchartButtonEl.classList.remove('colab-df-spinner');\n",
              "      quickchartButtonEl.classList.add('colab-df-quickchart-complete');\n",
              "    }\n",
              "    (() => {\n",
              "      let quickchartButtonEl =\n",
              "        document.querySelector('#df-12c26420-4b5f-4ab1-a170-7f5502218071 button');\n",
              "      quickchartButtonEl.style.display =\n",
              "        google.colab.kernel.accessAllowed ? 'block' : 'none';\n",
              "    })();\n",
              "  </script>\n",
              "</div>\n",
              "\n",
              "    </div>\n",
              "  </div>\n"
            ],
            "application/vnd.google.colaboratory.intrinsic+json": {
              "type": "dataframe",
              "variable_name": "data"
            }
          },
          "metadata": {},
          "execution_count": 258
        }
      ]
    },
    {
      "cell_type": "markdown",
      "source": [],
      "metadata": {
        "id": "Z70OO3ATVwsP"
      }
    },
    {
      "cell_type": "code",
      "source": [
        "# Check for missing values\n",
        "print(\"Missing values:\",data.isnull().sum().sum())\n",
        "# Check for duplicated values\n",
        "print(\"Duplicated values:\",data.duplicated().sum().sum())"
      ],
      "metadata": {
        "colab": {
          "base_uri": "https://localhost:8080/"
        },
        "id": "QhU0bMB-IRYv",
        "outputId": "e7c3be6e-8d29-4e84-a372-edab204bf4a7"
      },
      "execution_count": 259,
      "outputs": [
        {
          "output_type": "stream",
          "name": "stdout",
          "text": [
            "Missing values: 7829\n",
            "Duplicated values: 0\n"
          ]
        }
      ]
    },
    {
      "cell_type": "code",
      "source": [
        "#Filling mising values with median for numeric and mode for objects\n",
        "for column in data.columns:\n",
        "    if data[column].dtype == 'object':\n",
        "        data[column].fillna(data[column].mode()[0], inplace=True)\n",
        "    elif data[column].dtype == 'int64' or data[column].dtype == 'float64':\n",
        "        data[column].fillna(data[column].median(), inplace=True)\n"
      ],
      "metadata": {
        "id": "gavMG77wJl8Y"
      },
      "execution_count": 260,
      "outputs": []
    },
    {
      "cell_type": "code",
      "source": [
        "# After filling the na values re-check for missing\n",
        "print(\"Missing values:\",data.isnull().sum().sum())\n",
        "print(\"Duplicated values:\",data.duplicated().sum().sum())"
      ],
      "metadata": {
        "colab": {
          "base_uri": "https://localhost:8080/"
        },
        "outputId": "80be72f5-8ef3-41e1-a018-dba2c5dacd21",
        "id": "Jmy0n6XSKbHV"
      },
      "execution_count": 261,
      "outputs": [
        {
          "output_type": "stream",
          "name": "stdout",
          "text": [
            "Missing values: 0\n",
            "Duplicated values: 0\n"
          ]
        }
      ]
    },
    {
      "cell_type": "code",
      "source": [
        "# Check for columns with low variance or high percentage of unique values\n",
        "for column in data.columns:\n",
        "  if data[column].dtype == 'object':\n",
        "    continue\n",
        "  if data[column].nunique() / len(data) > 0.95:\n",
        "    print(f\"Column '{column}' has a high percentage of unique values and might be useless.\")\n",
        "  elif data[column].var() < 0.1: # Adjust the threshold as needed\n",
        "    print(f\"Column '{column}' has low variance and might be useless.\")\n",
        "\n",
        "# Check for columns with a single unique value\n",
        "for column in data.columns:\n",
        "  if data[column].nunique() == 1:\n",
        "    print(f\"Column '{column}' has only one unique value and can be deleted.\")\n"
      ],
      "metadata": {
        "colab": {
          "base_uri": "https://localhost:8080/"
        },
        "id": "QyIxBKYOH4Bo",
        "outputId": "c0b53b1c-21e3-4df9-abeb-01001c12fef1"
      },
      "execution_count": 262,
      "outputs": [
        {
          "output_type": "stream",
          "name": "stdout",
          "text": [
            "Column 'Id' has a high percentage of unique values and might be useless.\n",
            "Column 'BsmtHalfBath' has low variance and might be useless.\n",
            "Column 'KitchenAbvGr' has low variance and might be useless.\n"
          ]
        }
      ]
    },
    {
      "cell_type": "code",
      "source": [
        "for column in data.select_dtypes(include=['int64', 'float64']).columns:\n",
        "    # Calculate the IQR\n",
        "    Q1 = data[column].quantile(0.25)\n",
        "    Q3 = data[column].quantile(0.75)\n",
        "    IQR = Q3 - Q1\n",
        "\n",
        "    # Define the outlier boundaries\n",
        "    lower_bound = Q1 - 1.5 * IQR\n",
        "    upper_bound = Q3 + 1.5 * IQR\n",
        "\n",
        "    # Replace outliers with the median\n",
        "    data[column] = np.where(data[column] < lower_bound, data[column].median(), data[column])\n",
        "    data[column] = np.where(data[column] > upper_bound, data[column].median(), data[column])\n"
      ],
      "metadata": {
        "id": "6pSq49UkLQIS"
      },
      "execution_count": 263,
      "outputs": []
    },
    {
      "cell_type": "code",
      "source": [
        "# H0 -> there is no statistically significant difference in the average SalePrice among different GarageFinish categories.\n",
        "# H1 -> There is a statistically significant difference in the average SalePrice among different GarageFinish categories.\n",
        "# h0 being the Null Hypothesis, and h1 being Alternative Hypothesis\n",
        "# Choice of test: one-way ANOVA test\n",
        "# why? We have one independent variable (GarageFinish) with multiple categories."
      ],
      "metadata": {
        "id": "WKoSSZVIU04b"
      },
      "execution_count": 264,
      "outputs": []
    },
    {
      "cell_type": "code",
      "source": [
        "#import libraries=\n",
        "import statsmodels.api as sm\n",
        "from statsmodels.formula.api import ols\n",
        "from statsmodels.stats.multicomp import pairwise_tukeyhsd"
      ],
      "metadata": {
        "id": "TFviZLU7Vjic"
      },
      "execution_count": 265,
      "outputs": []
    },
    {
      "cell_type": "code",
      "source": [
        "# Perform ANOVA\n",
        "model = ols('SalePrice ~ C(GarageFinish)', data=data).fit()\n",
        "anova_table = sm.stats.anova_lm(model, typ=2)\n",
        "print(anova_table)\n",
        "print('===============================================================')\n",
        "# Perform post-hoc analysis (Tukey's HSD)\n",
        "# seperates garageFinish into groups\n",
        "m_comp = pairwise_tukeyhsd(data['SalePrice'], data['GarageFinish'], alpha=0.05)\n",
        "print(m_comp)"
      ],
      "metadata": {
        "colab": {
          "base_uri": "https://localhost:8080/"
        },
        "id": "JdrFOwbjdO5g",
        "outputId": "0577e0df-c519-452a-9ebd-3d0a3d1d1073"
      },
      "execution_count": 266,
      "outputs": [
        {
          "output_type": "stream",
          "name": "stdout",
          "text": [
            "                       sum_sq      df           F         PR(>F)\n",
            "C(GarageFinish)  1.471012e+12     2.0  311.835941  1.857643e-113\n",
            "Residual         3.436525e+12  1457.0         NaN            NaN\n",
            "===============================================================\n",
            "     Multiple Comparison of Means - Tukey HSD, FWER=0.05      \n",
            "==============================================================\n",
            "group1 group2   meandiff  p-adj    lower       upper    reject\n",
            "--------------------------------------------------------------\n",
            "   Fin    RFn -11527.8813 0.003  -19752.579  -3303.1836   True\n",
            "   Fin    Unf -69330.7214   0.0 -76801.0948 -61860.3481   True\n",
            "   RFn    Unf -57802.8401   0.0 -64851.8581 -50753.8221   True\n",
            "--------------------------------------------------------------\n"
          ]
        }
      ]
    },
    {
      "cell_type": "code",
      "source": [
        "# After conducting the following analysis, the conclusion is:\n",
        "# we have 3 adjusted p-values, and since alpha is 0.05\n",
        "# 0.4546: This p-value is greater than 0.05\n",
        "# 0.0: These p-values are less than 0.05\n",
        "# Since we have some p-values less than 0.05, we reject the hypothesis meaning that\n",
        "# theres an overall significant difference among the data\n",
        "# conclusion: we reject h0"
      ],
      "metadata": {
        "id": "Kxkv9oJVdPZX"
      },
      "execution_count": 267,
      "outputs": []
    },
    {
      "cell_type": "code",
      "source": [
        "# To conduct a multiple linear regression model we first need to find the best predictorfrom sklearn.linear_model import LassoCV\n",
        "from sklearn.linear_model import LassoCV\n",
        "from sklearn.model_selection import train_test_split\n",
        "from sklearn.preprocessing import StandardScaler\n",
        "# Separate features (X) and target variable (y)\n",
        "X = data.drop('SalePrice', axis=1)\n",
        "y = data['SalePrice']\n",
        "# Select numerical features for Lasso regression\n",
        "X_num = X.select_dtypes(include=['int64', 'float64'])\n",
        "# One-hot encode categorical features\n",
        "X_encoded = pd.get_dummies(X, drop_first=True)\n",
        "# Combine numerical and encoded features\n",
        "X = pd.concat([X_num, X_encoded], axis=1)\n",
        "# Split data into training and testing sets\n",
        "X_train, X_test, y_train, y_test = train_test_split(X, y, test_size=0.2, random_state=42)\n",
        "# Scale the data\n",
        "scaler = StandardScaler()\n",
        "X_train_scaled = scaler.fit_transform(X_train)\n",
        "X_test_scaled = scaler.transform(X_test)\n",
        "# Create and fit LassoCV model (cross-validated Lasso)\n",
        "lasso_cv = LassoCV(cv=5, random_state=42)\n",
        "lasso_cv.fit(X_train_scaled, y_train)\n",
        "# Get the best alpha (regularization strength)\n",
        "best_alpha = lasso_cv.alpha_\n",
        "print(f\"Best alpha: {best_alpha}\")\n",
        "# Get coefficients (feature importances)\n",
        "coefficients = lasso_cv.coef_\n",
        "# Find the best predictors\n",
        "selected_features = []\n",
        "for i, feature in enumerate(X.columns):\n",
        "    if coefficients[i] != 0:\n",
        "        selected_features.append(feature)\n",
        "\n"
      ],
      "metadata": {
        "colab": {
          "base_uri": "https://localhost:8080/"
        },
        "id": "xDURnVQSMWSe",
        "outputId": "09910d64-2254-42f7-d830-7f59dc3348a8"
      },
      "execution_count": 268,
      "outputs": [
        {
          "output_type": "stream",
          "name": "stdout",
          "text": [
            "Best alpha: 794.1287702808332\n"
          ]
        }
      ]
    },
    {
      "cell_type": "code",
      "source": [
        "# Updating the data set with all the features needed\n",
        "for column in data.columns:\n",
        "  if column not in selected_features:\n",
        "    data.drop(column, axis=1, inplace=True)\n",
        "data['SalePrice'] = y"
      ],
      "metadata": {
        "id": "S7yFWUblQnoH"
      },
      "execution_count": 269,
      "outputs": []
    },
    {
      "cell_type": "code",
      "source": [
        "from scipy import stats\n",
        "# Assuming 'data' is your DataFrame and 'SalePrice' is the target variable\n",
        "#transformed_data, lambda_value = stats.boxcox(data['SalePrice'])\n",
        "\n",
        "# Print the optimal lambda value\n",
        "#rint(f\"Lambda value: {lambda_value}\")\n",
        "\n",
        "# Update the 'SalePrice' column with transformed values\n",
        "#data['SalePrice'] = transformed_data\n",
        "\n",
        "# orr\n",
        "data['LogSalePrice'] = np.log(data['SalePrice'])\n",
        "# ... update your model to use 'LogSalePrice' as the target variable ... > r-squared 0.93"
      ],
      "metadata": {
        "id": "zY2LcEJNo_Nj"
      },
      "execution_count": 270,
      "outputs": []
    },
    {
      "source": [
        "import numpy as np\n",
        "from scipy import stats\n",
        "\n",
        "# Assuming 'data' is your DataFrame and 'SalePrice' is the variable to transform\n",
        "\n",
        "# Logarithmic transformation (for right-skewed data)\n",
        "data['LogSalePrice'] = np.log(data['SalePrice'])\n",
        "\n",
        "# Square root transformation\n",
        "data['SqrtSalePrice'] = np.sqrt(data['SalePrice'])\n",
        "\n",
        "# Box-Cox transformation\n",
        "transformed_data, lambda_value = stats.boxcox(data['SalePrice'])\n",
        "data['BoxCoxSalePrice'] = transformed_data\n",
        "\n",
        "# Choose the transformation that best improves normality\n",
        "# You can use visualizations (histograms, Q-Q plots) and normality tests\n",
        "# to assess the effectiveness of each transformation."
      ],
      "cell_type": "code",
      "metadata": {
        "id": "gjK9nalKtp1j"
      },
      "execution_count": 271,
      "outputs": []
    },
    {
      "cell_type": "code",
      "source": [
        "from sklearn.linear_model import LinearRegression\n",
        "from sklearn.model_selection import train_test_split\n",
        "import matplotlib.pyplot as plt\n",
        "import scipy.stats as stats\n",
        "# Define the feature matrix (X) and target variable (y)\n",
        "X = data.drop('SalePrice', axis=1)\n",
        "y = data['SalePrice']\n",
        "# Split the data into training and testing sets\n",
        "X_train, X_test, y_train, y_test = train_test_split(X, y, test_size=0.2, random_state=42)\n",
        "# Create and fit the multiple linear regression model\n",
        "model = LinearRegression()\n",
        "model.fit(X_train, y_train)\n",
        "# Make predictions on the testing set\n",
        "y_pred = model.predict(X_test)\n",
        "# Check for assumptions:\n",
        "\n",
        "# 1. Linearity: Plot predicted values vs. residuals\n",
        "plt.scatter(y_pred, y_test - y_pred)\n",
        "plt.xlabel(\"Predicted Values\")\n",
        "plt.ylabel(\"Residuals\")\n",
        "plt.title(\"Linearity Check\")\n",
        "plt.show()\n",
        "\n",
        "# 2. Normality of residuals: Create a Q-Q plot\n",
        "stats.probplot(y_test - y_pred, dist=\"norm\", plot=plt)\n",
        "plt.title(\"Normality of Residuals (Q-Q Plot)\")\n",
        "plt.show()\n",
        "\n",
        "# 3. Homoscedasticity: Plot predicted values vs. squared residuals\n",
        "plt.scatter(y_pred, (y_test - y_pred)**2)\n",
        "plt.xlabel(\"Predicted Values\")\n",
        "plt.ylabel(\"Squared Residuals\")\n",
        "plt.title(\"Homoscedasticity Check\")\n",
        "plt.show()\n",
        "\n",
        "# 4. Multicollinearity: Calculate VIF (Variance Inflation Factor)\n",
        "from statsmodels.stats.outliers_influence import variance_inflation_factor\n",
        "vif = [variance_inflation_factor(X.values, i) for i in range(X.shape[1])]\n",
        "print(\"VIF:\", vif)"
      ],
      "metadata": {
        "colab": {
          "base_uri": "https://localhost:8080/",
          "height": 1000
        },
        "id": "lPSZcgJPUHlu",
        "outputId": "020ae801-b23e-4fca-985e-a9f8a8d40d30"
      },
      "execution_count": 272,
      "outputs": [
        {
          "output_type": "display_data",
          "data": {
            "text/plain": [
              "<Figure size 640x480 with 1 Axes>"
            ],
            "image/png": "[encoded data removed]"
          },
          "metadata": {}
        },
        {
          "output_type": "display_data",
          "data": {
            "text/plain": [
              "<Figure size 640x480 with 1 Axes>"
            ],
            "image/png": "[encoded data removed]"
          },
          "metadata": {}
        },
        {
          "output_type": "display_data",
          "data": {
            "text/plain": [
              "<Figure size 640x480 with 1 Axes>"
            ],
            "image/png": "[encoded data removed]"
          },
          "metadata": {}
        },
        {
          "output_type": "stream",
          "name": "stdout",
          "text": [
            "VIF: [5.32939244113798, 35.62656258700908, 15.616220015661712, 55.870249406610284, 62.8519290214703, 11497.246036979455, 18098.841487998867, 1.592808133227741, 4.08533162432714, 26.66715853516526, 4.854110433688702, 42.789616138490786, 2.9830345535864558, 2.7796555569130685, 11.704807689414421, 1.8315523621646304, 2.0422674585308704, 69040.95318263002, 21858.611579358512, 93723.8632268177]\n"
          ]
        }
      ]
    },
    {
      "cell_type": "code",
      "source": [
        "from sklearn.metrics import mean_squared_error, r2_score\n",
        "from sklearn.metrics import mean_absolute_error\n",
        "from sklearn.metrics import explained_variance_score\n",
        "\n",
        "explained_var = explained_variance_score(y_test, y_pred)\n",
        "print(\"Explained Variance:\", explained_var)\n",
        "mae = mean_absolute_error(y_test, y_pred)\n",
        "\n",
        "mse = mean_squared_error(y_test, y_pred)\n",
        "rmse = mean_squared_error(y_test, y_pred, squared=False)\n",
        "r2 = r2_score(y_test, y_pred)\n",
        "print(\"Mean Absolute Error:\", mae)\n",
        "print(\"Mean Squared Error:\", mse)\n",
        "print(\"Root Mean Squared Error:\", rmse)\n",
        "print(\"R-squared:\", r2)"
      ],
      "metadata": {
        "colab": {
          "base_uri": "https://localhost:8080/"
        },
        "id": "B7Xi6Q5AXq2F",
        "outputId": "dbe13595-a692-4c77-9733-471ff247714c"
      },
      "execution_count": 273,
      "outputs": [
        {
          "output_type": "stream",
          "name": "stdout",
          "text": [
            "Explained Variance: 0.999992851754609\n",
            "Mean Absolute Error: 103.32596695230005\n",
            "Mean Squared Error: 25764.613482154193\n",
            "Root Mean Squared Error: 160.5135928267578\n",
            "R-squared: 0.9999928502365962\n"
          ]
        }
      ]
    },
    {
      "source": [
        "import statsmodels.api as sm\n",
        "# Add a constant to the feature matrix\n",
        "X = sm.add_constant(X)\n",
        "# Fit the model and get robust standard errors\n",
        "model = sm.OLS(data['SalePrice'], X).fit(cov_type='HC3')  # HC3 is a common robust covariance type\n",
        "# Print the model summary\n",
        "print(model.summary())\n"
      ],
      "cell_type": "code",
      "metadata": {
        "colab": {
          "base_uri": "https://localhost:8080/"
        },
        "id": "ZVOiJCMAXuYI",
        "outputId": "b6e718ce-2b8a-43a6-809e-b177b830427e"
      },
      "execution_count": 274,
      "outputs": [
        {
          "output_type": "stream",
          "name": "stdout",
          "text": [
            "                            OLS Regression Results                            \n",
            "==============================================================================\n",
            "Dep. Variable:              SalePrice   R-squared:                       1.000\n",
            "Model:                            OLS   Adj. R-squared:                  1.000\n",
            "Method:                 Least Squares   F-statistic:                 6.870e+06\n",
            "Date:                Sat, 21 Sep 2024   Prob (F-statistic):               0.00\n",
            "Time:                        18:03:45   Log-Likelihood:                -9281.9\n",
            "No. Observations:                1460   AIC:                         1.861e+04\n",
            "Df Residuals:                    1439   BIC:                         1.872e+04\n",
            "Df Model:                          20                                         \n",
            "Covariance Type:                  HC3                                         \n",
            "===================================================================================\n",
            "                      coef    std err          z      P>|z|      [0.025      0.975]\n",
            "-----------------------------------------------------------------------------------\n",
            "const           -1.848e+06   6.03e+04    -30.651      0.000   -1.97e+06   -1.73e+06\n",
            "MSSubClass          0.1648      0.122      1.353      0.176      -0.074       0.404\n",
            "LotFrontage         0.4658      0.317      1.470      0.142      -0.155       1.087\n",
            "LotArea             0.0009      0.001      0.620      0.535      -0.002       0.004\n",
            "OverallQual         5.8644      5.305      1.105      0.269      -4.533      16.262\n",
            "OverallCond         6.4127      4.872      1.316      0.188      -3.137      15.962\n",
            "YearBuilt          -0.3927      0.231     -1.701      0.089      -0.845       0.060\n",
            "YearRemodAdd       -0.1309      0.223     -0.588      0.557      -0.568       0.306\n",
            "MasVnrArea          0.0285      0.037      0.769      0.442      -0.044       0.101\n",
            "BsmtFinSF1          0.0409      0.014      2.847      0.004       0.013       0.069\n",
            "TotalBsmtSF         0.0062      0.015      0.401      0.689      -0.024       0.036\n",
            "2ndFlrSF            0.0155      0.013      1.179      0.239      -0.010       0.041\n",
            "GrLivArea          -0.0298      0.015     -1.982      0.047      -0.059      -0.000\n",
            "BsmtFullBath        5.5296     10.650      0.519      0.604     -15.344      26.403\n",
            "Fireplaces         -1.0071      5.978     -0.168      0.866     -12.723      10.709\n",
            "GarageArea          0.0405      0.028      1.442      0.149      -0.015       0.095\n",
            "WoodDeckSF          0.0268      0.033      0.804      0.421      -0.039       0.092\n",
            "OpenPorchSF        -0.1660      0.087     -1.908      0.056      -0.337       0.005\n",
            "LogSalePrice     3.312e+05   8960.245     36.965      0.000    3.14e+05    3.49e+05\n",
            "SqrtSalePrice    4867.9568     58.323     83.465      0.000    4753.646    4982.268\n",
            "BoxCoxSalePrice -3.852e+04    696.452    -55.309      0.000   -3.99e+04   -3.72e+04\n",
            "==============================================================================\n",
            "Omnibus:                      733.920   Durbin-Watson:                   1.998\n",
            "Prob(Omnibus):                  0.000   Jarque-Bera (JB):            18303.888\n",
            "Skew:                           1.800   Prob(JB):                         0.00\n",
            "Kurtosis:                      19.968   Cond. No.                     2.57e+07\n",
            "==============================================================================\n",
            "\n",
            "Notes:\n",
            "[1] Standard Errors are heteroscedasticity robust (HC3)\n",
            "[2] The condition number is large, 2.57e+07. This might indicate that there are\n",
            "strong multicollinearity or other numerical problems.\n"
          ]
        }
      ]
    },
    {
      "cell_type": "code",
      "source": [],
      "metadata": {
        "id": "J7H8lA5dvInU"
      },
      "execution_count": 274,
      "outputs": []
    },
    {
      "cell_type": "code",
      "source": [],
      "metadata": {
        "id": "4M5_fuVNvOzL"
      },
      "execution_count": 274,
      "outputs": []
    }
  ]
}