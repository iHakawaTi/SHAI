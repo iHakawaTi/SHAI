{
  "nbformat": 4,
  "nbformat_minor": 0,
  "metadata": {
    "colab": {
      "provenance": []
    },
    "kernelspec": {
      "name": "python3",
      "display_name": "Python 3"
    },
    "language_info": {
      "name": "python"
    }
  },
  "cells": [
    {
      "cell_type": "markdown",
      "source": [
        "Project 2."
      ],
      "metadata": {
        "id": "hDuGhcTJHBD9"
      }
    },
    {
      "cell_type": "code",
      "source": [
        "# import necessary libraries\n",
        "import pandas as pd\n",
        "import numpy as np\n",
        "import scipy.stats as stats\n",
        "import matplotlib.pyplot as plt\n",
        "import seaborn as sns\n"
      ],
      "metadata": {
        "id": "anvCxL-OG9zc"
      },
      "execution_count": 304,
      "outputs": []
    },
    {
      "cell_type": "code",
      "source": [
        "# Loading the dataset\n",
        "data = pd.read_csv('/content/project_2_data.csv')\n",
        "data.head()"
      ],
      "metadata": {
        "id": "MVk1v5QHHeRP",
        "colab": {
          "base_uri": "https://localhost:8080/",
          "height": 256
        },
        "outputId": "5d337708-67e5-42b2-9bc6-8290a1ba4fb3"
      },
      "execution_count": 305,
      "outputs": [
        {
          "output_type": "execute_result",
          "data": {
            "text/plain": [
              "   Id  MSSubClass MSZoning  LotFrontage  LotArea Street Alley LotShape  \\\n",
              "0   1          60       RL         65.0     8450   Pave   NaN      Reg   \n",
              "1   2          20       RL         80.0     9600   Pave   NaN      Reg   \n",
              "2   3          60       RL         68.0    11250   Pave   NaN      IR1   \n",
              "3   4          70       RL         60.0     9550   Pave   NaN      IR1   \n",
              "4   5          60       RL         84.0    14260   Pave   NaN      IR1   \n",
              "\n",
              "  LandContour Utilities  ... PoolArea PoolQC Fence MiscFeature MiscVal MoSold  \\\n",
              "0         Lvl    AllPub  ...        0    NaN   NaN         NaN       0      2   \n",
              "1         Lvl    AllPub  ...        0    NaN   NaN         NaN       0      5   \n",
              "2         Lvl    AllPub  ...        0    NaN   NaN         NaN       0      9   \n",
              "3         Lvl    AllPub  ...        0    NaN   NaN         NaN       0      2   \n",
              "4         Lvl    AllPub  ...        0    NaN   NaN         NaN       0     12   \n",
              "\n",
              "  YrSold  SaleType  SaleCondition  SalePrice  \n",
              "0   2008        WD         Normal     208500  \n",
              "1   2007        WD         Normal     181500  \n",
              "2   2008        WD         Normal     223500  \n",
              "3   2006        WD        Abnorml     140000  \n",
              "4   2008        WD         Normal     250000  \n",
              "\n",
              "[5 rows x 81 columns]"
            ],
            "text/html": [
              "\n",
              "  <div id=\"df-c9295969-b4c4-4fab-97e9-42854273a7de\" class=\"colab-df-container\">\n",
              "    <div>\n",
              "<style scoped>\n",
              "    .dataframe tbody tr th:only-of-type {\n",
              "        vertical-align: middle;\n",
              "    }\n",
              "\n",
              "    .dataframe tbody tr th {\n",
              "        vertical-align: top;\n",
              "    }\n",
              "\n",
              "    .dataframe thead th {\n",
              "        text-align: right;\n",
              "    }\n",
              "</style>\n",
              "<table border=\"1\" class=\"dataframe\">\n",
              "  <thead>\n",
              "    <tr style=\"text-align: right;\">\n",
              "      <th></th>\n",
              "      <th>Id</th>\n",
              "      <th>MSSubClass</th>\n",
              "      <th>MSZoning</th>\n",
              "      <th>LotFrontage</th>\n",
              "      <th>LotArea</th>\n",
              "      <th>Street</th>\n",
              "      <th>Alley</th>\n",
              "      <th>LotShape</th>\n",
              "      <th>LandContour</th>\n",
              "      <th>Utilities</th>\n",
              "      <th>...</th>\n",
              "      <th>PoolArea</th>\n",
              "      <th>PoolQC</th>\n",
              "      <th>Fence</th>\n",
              "      <th>MiscFeature</th>\n",
              "      <th>MiscVal</th>\n",
              "      <th>MoSold</th>\n",
              "      <th>YrSold</th>\n",
              "      <th>SaleType</th>\n",
              "      <th>SaleCondition</th>\n",
              "      <th>SalePrice</th>\n",
              "    </tr>\n",
              "  </thead>\n",
              "  <tbody>\n",
              "    <tr>\n",
              "      <th>0</th>\n",
              "      <td>1</td>\n",
              "      <td>60</td>\n",
              "      <td>RL</td>\n",
              "      <td>65.0</td>\n",
              "      <td>8450</td>\n",
              "      <td>Pave</td>\n",
              "      <td>NaN</td>\n",
              "      <td>Reg</td>\n",
              "      <td>Lvl</td>\n",
              "      <td>AllPub</td>\n",
              "      <td>...</td>\n",
              "      <td>0</td>\n",
              "      <td>NaN</td>\n",
              "      <td>NaN</td>\n",
              "      <td>NaN</td>\n",
              "      <td>0</td>\n",
              "      <td>2</td>\n",
              "      <td>2008</td>\n",
              "      <td>WD</td>\n",
              "      <td>Normal</td>\n",
              "      <td>208500</td>\n",
              "    </tr>\n",
              "    <tr>\n",
              "      <th>1</th>\n",
              "      <td>2</td>\n",
              "      <td>20</td>\n",
              "      <td>RL</td>\n",
              "      <td>80.0</td>\n",
              "      <td>9600</td>\n",
              "      <td>Pave</td>\n",
              "      <td>NaN</td>\n",
              "      <td>Reg</td>\n",
              "      <td>Lvl</td>\n",
              "      <td>AllPub</td>\n",
              "      <td>...</td>\n",
              "      <td>0</td>\n",
              "      <td>NaN</td>\n",
              "      <td>NaN</td>\n",
              "      <td>NaN</td>\n",
              "      <td>0</td>\n",
              "      <td>5</td>\n",
              "      <td>2007</td>\n",
              "      <td>WD</td>\n",
              "      <td>Normal</td>\n",
              "      <td>181500</td>\n",
              "    </tr>\n",
              "    <tr>\n",
              "      <th>2</th>\n",
              "      <td>3</td>\n",
              "      <td>60</td>\n",
              "      <td>RL</td>\n",
              "      <td>68.0</td>\n",
              "      <td>11250</td>\n",
              "      <td>Pave</td>\n",
              "      <td>NaN</td>\n",
              "      <td>IR1</td>\n",
              "      <td>Lvl</td>\n",
              "      <td>AllPub</td>\n",
              "      <td>...</td>\n",
              "      <td>0</td>\n",
              "      <td>NaN</td>\n",
              "      <td>NaN</td>\n",
              "      <td>NaN</td>\n",
              "      <td>0</td>\n",
              "      <td>9</td>\n",
              "      <td>2008</td>\n",
              "      <td>WD</td>\n",
              "      <td>Normal</td>\n",
              "      <td>223500</td>\n",
              "    </tr>\n",
              "    <tr>\n",
              "      <th>3</th>\n",
              "      <td>4</td>\n",
              "      <td>70</td>\n",
              "      <td>RL</td>\n",
              "      <td>60.0</td>\n",
              "      <td>9550</td>\n",
              "      <td>Pave</td>\n",
              "      <td>NaN</td>\n",
              "      <td>IR1</td>\n",
              "      <td>Lvl</td>\n",
              "      <td>AllPub</td>\n",
              "      <td>...</td>\n",
              "      <td>0</td>\n",
              "      <td>NaN</td>\n",
              "      <td>NaN</td>\n",
              "      <td>NaN</td>\n",
              "      <td>0</td>\n",
              "      <td>2</td>\n",
              "      <td>2006</td>\n",
              "      <td>WD</td>\n",
              "      <td>Abnorml</td>\n",
              "      <td>140000</td>\n",
              "    </tr>\n",
              "    <tr>\n",
              "      <th>4</th>\n",
              "      <td>5</td>\n",
              "      <td>60</td>\n",
              "      <td>RL</td>\n",
              "      <td>84.0</td>\n",
              "      <td>14260</td>\n",
              "      <td>Pave</td>\n",
              "      <td>NaN</td>\n",
              "      <td>IR1</td>\n",
              "      <td>Lvl</td>\n",
              "      <td>AllPub</td>\n",
              "      <td>...</td>\n",
              "      <td>0</td>\n",
              "      <td>NaN</td>\n",
              "      <td>NaN</td>\n",
              "      <td>NaN</td>\n",
              "      <td>0</td>\n",
              "      <td>12</td>\n",
              "      <td>2008</td>\n",
              "      <td>WD</td>\n",
              "      <td>Normal</td>\n",
              "      <td>250000</td>\n",
              "    </tr>\n",
              "  </tbody>\n",
              "</table>\n",
              "<p>5 rows × 81 columns</p>\n",
              "</div>\n",
              "    <div class=\"colab-df-buttons\">\n",
              "\n",
              "  <div class=\"colab-df-container\">\n",
              "    <button class=\"colab-df-convert\" onclick=\"convertToInteractive('df-c9295969-b4c4-4fab-97e9-42854273a7de')\"\n",
              "            title=\"Convert this dataframe to an interactive table.\"\n",
              "            style=\"display:none;\">\n",
              "\n",
              "  <svg xmlns=\"http://www.w3.org/2000/svg\" height=\"24px\" viewBox=\"0 -960 960 960\">\n",
              "    <path d=\"M120-120v-720h720v720H120Zm60-500h600v-160H180v160Zm220 220h160v-160H400v160Zm0 220h160v-160H400v160ZM180-400h160v-160H180v160Zm440 0h160v-160H620v160ZM180-180h160v-160H180v160Zm440 0h160v-160H620v160Z\"/>\n",
              "  </svg>\n",
              "    </button>\n",
              "\n",
              "  <style>\n",
              "    .colab-df-container {\n",
              "      display:flex;\n",
              "      gap: 12px;\n",
              "    }\n",
              "\n",
              "    .colab-df-convert {\n",
              "      background-color: #E8F0FE;\n",
              "      border: none;\n",
              "      border-radius: 50%;\n",
              "      cursor: pointer;\n",
              "      display: none;\n",
              "      fill: #1967D2;\n",
              "      height: 32px;\n",
              "      padding: 0 0 0 0;\n",
              "      width: 32px;\n",
              "    }\n",
              "\n",
              "    .colab-df-convert:hover {\n",
              "      background-color: #E2EBFA;\n",
              "      box-shadow: 0px 1px 2px rgba(60, 64, 67, 0.3), 0px 1px 3px 1px rgba(60, 64, 67, 0.15);\n",
              "      fill: #174EA6;\n",
              "    }\n",
              "\n",
              "    .colab-df-buttons div {\n",
              "      margin-bottom: 4px;\n",
              "    }\n",
              "\n",
              "    [theme=dark] .colab-df-convert {\n",
              "      background-color: #3B4455;\n",
              "      fill: #D2E3FC;\n",
              "    }\n",
              "\n",
              "    [theme=dark] .colab-df-convert:hover {\n",
              "      background-color: #434B5C;\n",
              "      box-shadow: 0px 1px 3px 1px rgba(0, 0, 0, 0.15);\n",
              "      filter: drop-shadow(0px 1px 2px rgba(0, 0, 0, 0.3));\n",
              "      fill: #FFFFFF;\n",
              "    }\n",
              "  </style>\n",
              "\n",
              "    <script>\n",
              "      const buttonEl =\n",
              "        document.querySelector('#df-c9295969-b4c4-4fab-97e9-42854273a7de button.colab-df-convert');\n",
              "      buttonEl.style.display =\n",
              "        google.colab.kernel.accessAllowed ? 'block' : 'none';\n",
              "\n",
              "      async function convertToInteractive(key) {\n",
              "        const element = document.querySelector('#df-c9295969-b4c4-4fab-97e9-42854273a7de');\n",
              "        const dataTable =\n",
              "          await google.colab.kernel.invokeFunction('convertToInteractive',\n",
              "                                                    [key], {});\n",
              "        if (!dataTable) return;\n",
              "\n",
              "        const docLinkHtml = 'Like what you see? Visit the ' +\n",
              "          '<a target=\"_blank\" href=https://colab.research.google.com/notebooks/data_table.ipynb>data table notebook</a>'\n",
              "          + ' to learn more about interactive tables.';\n",
              "        element.innerHTML = '';\n",
              "        dataTable['output_type'] = 'display_data';\n",
              "        await google.colab.output.renderOutput(dataTable, element);\n",
              "        const docLink = document.createElement('div');\n",
              "        docLink.innerHTML = docLinkHtml;\n",
              "        element.appendChild(docLink);\n",
              "      }\n",
              "    </script>\n",
              "  </div>\n",
              "\n",
              "\n",
              "<div id=\"df-9e4310c3-12c9-45af-976e-1de843d5a9b8\">\n",
              "  <button class=\"colab-df-quickchart\" onclick=\"quickchart('df-9e4310c3-12c9-45af-976e-1de843d5a9b8')\"\n",
              "            title=\"Suggest charts\"\n",
              "            style=\"display:none;\">\n",
              "\n",
              "<svg xmlns=\"http://www.w3.org/2000/svg\" height=\"24px\"viewBox=\"0 0 24 24\"\n",
              "     width=\"24px\">\n",
              "    <g>\n",
              "        <path d=\"M19 3H5c-1.1 0-2 .9-2 2v14c0 1.1.9 2 2 2h14c1.1 0 2-.9 2-2V5c0-1.1-.9-2-2-2zM9 17H7v-7h2v7zm4 0h-2V7h2v10zm4 0h-2v-4h2v4z\"/>\n",
              "    </g>\n",
              "</svg>\n",
              "  </button>\n",
              "\n",
              "<style>\n",
              "  .colab-df-quickchart {\n",
              "      --bg-color: #E8F0FE;\n",
              "      --fill-color: #1967D2;\n",
              "      --hover-bg-color: #E2EBFA;\n",
              "      --hover-fill-color: #174EA6;\n",
              "      --disabled-fill-color: #AAA;\n",
              "      --disabled-bg-color: #DDD;\n",
              "  }\n",
              "\n",
              "  [theme=dark] .colab-df-quickchart {\n",
              "      --bg-color: #3B4455;\n",
              "      --fill-color: #D2E3FC;\n",
              "      --hover-bg-color: #434B5C;\n",
              "      --hover-fill-color: #FFFFFF;\n",
              "      --disabled-bg-color: #3B4455;\n",
              "      --disabled-fill-color: #666;\n",
              "  }\n",
              "\n",
              "  .colab-df-quickchart {\n",
              "    background-color: var(--bg-color);\n",
              "    border: none;\n",
              "    border-radius: 50%;\n",
              "    cursor: pointer;\n",
              "    display: none;\n",
              "    fill: var(--fill-color);\n",
              "    height: 32px;\n",
              "    padding: 0;\n",
              "    width: 32px;\n",
              "  }\n",
              "\n",
              "  .colab-df-quickchart:hover {\n",
              "    background-color: var(--hover-bg-color);\n",
              "    box-shadow: 0 1px 2px rgba(60, 64, 67, 0.3), 0 1px 3px 1px rgba(60, 64, 67, 0.15);\n",
              "    fill: var(--button-hover-fill-color);\n",
              "  }\n",
              "\n",
              "  .colab-df-quickchart-complete:disabled,\n",
              "  .colab-df-quickchart-complete:disabled:hover {\n",
              "    background-color: var(--disabled-bg-color);\n",
              "    fill: var(--disabled-fill-color);\n",
              "    box-shadow: none;\n",
              "  }\n",
              "\n",
              "  .colab-df-spinner {\n",
              "    border: 2px solid var(--fill-color);\n",
              "    border-color: transparent;\n",
              "    border-bottom-color: var(--fill-color);\n",
              "    animation:\n",
              "      spin 1s steps(1) infinite;\n",
              "  }\n",
              "\n",
              "  @keyframes spin {\n",
              "    0% {\n",
              "      border-color: transparent;\n",
              "      border-bottom-color: var(--fill-color);\n",
              "      border-left-color: var(--fill-color);\n",
              "    }\n",
              "    20% {\n",
              "      border-color: transparent;\n",
              "      border-left-color: var(--fill-color);\n",
              "      border-top-color: var(--fill-color);\n",
              "    }\n",
              "    30% {\n",
              "      border-color: transparent;\n",
              "      border-left-color: var(--fill-color);\n",
              "      border-top-color: var(--fill-color);\n",
              "      border-right-color: var(--fill-color);\n",
              "    }\n",
              "    40% {\n",
              "      border-color: transparent;\n",
              "      border-right-color: var(--fill-color);\n",
              "      border-top-color: var(--fill-color);\n",
              "    }\n",
              "    60% {\n",
              "      border-color: transparent;\n",
              "      border-right-color: var(--fill-color);\n",
              "    }\n",
              "    80% {\n",
              "      border-color: transparent;\n",
              "      border-right-color: var(--fill-color);\n",
              "      border-bottom-color: var(--fill-color);\n",
              "    }\n",
              "    90% {\n",
              "      border-color: transparent;\n",
              "      border-bottom-color: var(--fill-color);\n",
              "    }\n",
              "  }\n",
              "</style>\n",
              "\n",
              "  <script>\n",
              "    async function quickchart(key) {\n",
              "      const quickchartButtonEl =\n",
              "        document.querySelector('#' + key + ' button');\n",
              "      quickchartButtonEl.disabled = true;  // To prevent multiple clicks.\n",
              "      quickchartButtonEl.classList.add('colab-df-spinner');\n",
              "      try {\n",
              "        const charts = await google.colab.kernel.invokeFunction(\n",
              "            'suggestCharts', [key], {});\n",
              "      } catch (error) {\n",
              "        console.error('Error during call to suggestCharts:', error);\n",
              "      }\n",
              "      quickchartButtonEl.classList.remove('colab-df-spinner');\n",
              "      quickchartButtonEl.classList.add('colab-df-quickchart-complete');\n",
              "    }\n",
              "    (() => {\n",
              "      let quickchartButtonEl =\n",
              "        document.querySelector('#df-9e4310c3-12c9-45af-976e-1de843d5a9b8 button');\n",
              "      quickchartButtonEl.style.display =\n",
              "        google.colab.kernel.accessAllowed ? 'block' : 'none';\n",
              "    })();\n",
              "  </script>\n",
              "</div>\n",
              "\n",
              "    </div>\n",
              "  </div>\n"
            ],
            "application/vnd.google.colaboratory.intrinsic+json": {
              "type": "dataframe",
              "variable_name": "data"
            }
          },
          "metadata": {},
          "execution_count": 305
        }
      ]
    },
    {
      "cell_type": "markdown",
      "source": [],
      "metadata": {
        "id": "Z70OO3ATVwsP"
      }
    },
    {
      "cell_type": "code",
      "source": [
        "# Check for missing values\n",
        "print(\"Missing values:\",data.isnull().sum().sum())\n",
        "# Check for duplicated values\n",
        "print(\"Duplicated values:\",data.duplicated().sum().sum())"
      ],
      "metadata": {
        "colab": {
          "base_uri": "https://localhost:8080/"
        },
        "id": "QhU0bMB-IRYv",
        "outputId": "773ebf88-c236-4651-a068-9a9419cce4c6"
      },
      "execution_count": 306,
      "outputs": [
        {
          "output_type": "stream",
          "name": "stdout",
          "text": [
            "Missing values: 7829\n",
            "Duplicated values: 0\n"
          ]
        }
      ]
    },
    {
      "cell_type": "code",
      "source": [
        "#Filling mising values with median for numeric and mode for objects\n",
        "for column in data.columns:\n",
        "    if data[column].dtype == 'object':\n",
        "        data[column].fillna(data[column].mode()[0], inplace=True)\n",
        "    elif data[column].dtype == 'int64' or data[column].dtype == 'float64':\n",
        "        data[column].fillna(data[column].median(), inplace=True)\n"
      ],
      "metadata": {
        "id": "gavMG77wJl8Y"
      },
      "execution_count": 307,
      "outputs": []
    },
    {
      "cell_type": "code",
      "source": [
        "# After filling the na values re-check for missing\n",
        "print(\"Missing values:\",data.isnull().sum().sum())\n",
        "print(\"Duplicated values:\",data.duplicated().sum().sum())"
      ],
      "metadata": {
        "colab": {
          "base_uri": "https://localhost:8080/"
        },
        "outputId": "fea6542b-3555-4f54-92f6-979128aaa3b5",
        "id": "Jmy0n6XSKbHV"
      },
      "execution_count": 308,
      "outputs": [
        {
          "output_type": "stream",
          "name": "stdout",
          "text": [
            "Missing values: 0\n",
            "Duplicated values: 0\n"
          ]
        }
      ]
    },
    {
      "cell_type": "code",
      "source": [
        "# Check for columns with low variance or high percentage of unique values\n",
        "for column in data.columns:\n",
        "  if data[column].dtype == 'object':\n",
        "    continue\n",
        "  if data[column].nunique() / len(data) > 0.95:\n",
        "    print(f\"Column '{column}' has a high percentage of unique values and might be useless.\")\n",
        "  elif data[column].var() < 0.1: # Adjust the threshold as needed\n",
        "    print(f\"Column '{column}' has low variance and might be useless.\")\n",
        "\n",
        "# Check for columns with a single unique value\n",
        "for column in data.columns:\n",
        "  if data[column].nunique() == 1:\n",
        "    print(f\"Column '{column}' has only one unique value and can be deleted.\")\n"
      ],
      "metadata": {
        "colab": {
          "base_uri": "https://localhost:8080/"
        },
        "id": "QyIxBKYOH4Bo",
        "outputId": "f4e974f1-4a61-4c85-8ce9-e541d4930d2c"
      },
      "execution_count": 309,
      "outputs": [
        {
          "output_type": "stream",
          "name": "stdout",
          "text": [
            "Column 'Id' has a high percentage of unique values and might be useless.\n",
            "Column 'BsmtHalfBath' has low variance and might be useless.\n",
            "Column 'KitchenAbvGr' has low variance and might be useless.\n"
          ]
        }
      ]
    },
    {
      "cell_type": "code",
      "source": [
        "for column in data.select_dtypes(include=['int64', 'float64']).columns:\n",
        "    # Calculate the IQR\n",
        "    Q1 = data[column].quantile(0.25)\n",
        "    Q3 = data[column].quantile(0.75)\n",
        "    IQR = Q3 - Q1\n",
        "\n",
        "    # Define the outlier boundaries\n",
        "    lower_bound = Q1 - 1.5 * IQR\n",
        "    upper_bound = Q3 + 1.5 * IQR\n",
        "\n",
        "    # Replace outliers with the median\n",
        "    data[column] = np.where(data[column] < lower_bound, data[column].median(), data[column])\n",
        "    data[column] = np.where(data[column] > upper_bound, data[column].median(), data[column])\n"
      ],
      "metadata": {
        "id": "6pSq49UkLQIS"
      },
      "execution_count": 310,
      "outputs": []
    },
    {
      "cell_type": "code",
      "source": [
        "# H0 -> there is no statistically significant difference in the average SalePrice among different GarageFinish categories.\n",
        "# H1 -> There is a statistically significant difference in the average SalePrice among different GarageFinish categories.\n",
        "# h0 being the Null Hypothesis, and h1 being Alternative Hypothesis\n",
        "# Choice of test: one-way ANOVA test\n",
        "# why? We have one independent variable (GarageFinish) with multiple categories."
      ],
      "metadata": {
        "id": "WKoSSZVIU04b"
      },
      "execution_count": 311,
      "outputs": []
    },
    {
      "cell_type": "code",
      "source": [
        "#import libraries=\n",
        "import statsmodels.api as sm\n",
        "from statsmodels.formula.api import ols\n",
        "from statsmodels.stats.multicomp import pairwise_tukeyhsd"
      ],
      "metadata": {
        "id": "TFviZLU7Vjic"
      },
      "execution_count": 312,
      "outputs": []
    },
    {
      "cell_type": "code",
      "source": [
        "# Perform ANOVA\n",
        "model = ols('SalePrice ~ C(GarageFinish)', data=data).fit()\n",
        "anova_table = sm.stats.anova_lm(model, typ=2)\n",
        "print(anova_table)\n",
        "print('===============================================================')\n",
        "# Perform post-hoc analysis (Tukey's HSD)\n",
        "# seperates garageFinish into groups\n",
        "m_comp = pairwise_tukeyhsd(data['SalePrice'], data['GarageFinish'], alpha=0.05)\n",
        "print(m_comp)"
      ],
      "metadata": {
        "colab": {
          "base_uri": "https://localhost:8080/"
        },
        "id": "JdrFOwbjdO5g",
        "outputId": "b14342cf-f142-4537-db2c-57262e85f4b6"
      },
      "execution_count": 313,
      "outputs": [
        {
          "output_type": "stream",
          "name": "stdout",
          "text": [
            "                       sum_sq      df           F         PR(>F)\n",
            "C(GarageFinish)  1.471012e+12     2.0  311.835941  1.857643e-113\n",
            "Residual         3.436525e+12  1457.0         NaN            NaN\n",
            "===============================================================\n",
            "     Multiple Comparison of Means - Tukey HSD, FWER=0.05      \n",
            "==============================================================\n",
            "group1 group2   meandiff  p-adj    lower       upper    reject\n",
            "--------------------------------------------------------------\n",
            "   Fin    RFn -11527.8813 0.003  -19752.579  -3303.1836   True\n",
            "   Fin    Unf -69330.7214   0.0 -76801.0948 -61860.3481   True\n",
            "   RFn    Unf -57802.8401   0.0 -64851.8581 -50753.8221   True\n",
            "--------------------------------------------------------------\n"
          ]
        }
      ]
    },
    {
      "cell_type": "code",
      "source": [
        "# After conducting the following analysis, the conclusion is:\n",
        "# we have 3 adjusted p-values, and since alpha is 0.05\n",
        "# 0.4546: This p-value is greater than 0.05\n",
        "# 0.0: These p-values are less than 0.05\n",
        "# Since we have some p-values less than 0.05, we reject the hypothesis meaning that\n",
        "# theres an overall significant difference among the data\n",
        "# conclusion: we reject h0"
      ],
      "metadata": {
        "id": "Kxkv9oJVdPZX"
      },
      "execution_count": 314,
      "outputs": []
    },
    {
      "cell_type": "code",
      "source": [
        "# To conduct a multiple linear regression model we first need to find the best predictorfrom sklearn.linear_model import LassoCV\n",
        "from sklearn.linear_model import LassoCV\n",
        "from sklearn.model_selection import train_test_split\n",
        "from sklearn.preprocessing import StandardScaler\n",
        "# Separate features (X) and target variable (y)\n",
        "X = data.drop('SalePrice', axis=1)\n",
        "y = data['SalePrice']\n",
        "# Select numerical features for Lasso regression\n",
        "X_num = X.select_dtypes(include=['int64', 'float64'])\n",
        "# One-hot encode categorical features\n",
        "X_encoded = pd.get_dummies(X, drop_first=True)\n",
        "# Combine numerical and encoded features\n",
        "X = pd.concat([X_num, X_encoded], axis=1)\n",
        "# Split data into training and testing sets\n",
        "X_train, X_test, y_train, y_test = train_test_split(X, y, test_size=0.2, random_state=42)\n",
        "# Scale the data\n",
        "scaler = StandardScaler()\n",
        "X_train_scaled = scaler.fit_transform(X_train)\n",
        "X_test_scaled = scaler.transform(X_test)\n",
        "# Create and fit LassoCV model (cross-validated Lasso)\n",
        "lasso_cv = LassoCV(cv=5, random_state=42)\n",
        "lasso_cv.fit(X_train_scaled, y_train)\n",
        "# Get the best alpha (regularization strength)\n",
        "best_alpha = lasso_cv.alpha_\n",
        "print(f\"Best alpha: {best_alpha}\")\n",
        "# Get coefficients (feature importances)\n",
        "coefficients = lasso_cv.coef_\n",
        "# Find the best predictors\n",
        "selected_features = []\n",
        "for i, feature in enumerate(X.columns):\n",
        "    if coefficients[i] != 0:\n",
        "        selected_features.append(feature)"
      ],
      "metadata": {
        "colab": {
          "base_uri": "https://localhost:8080/"
        },
        "id": "xDURnVQSMWSe",
        "outputId": "a495b93c-a86a-475f-f07a-9bc659a478a4"
      },
      "execution_count": 315,
      "outputs": [
        {
          "output_type": "stream",
          "name": "stdout",
          "text": [
            "Best alpha: 794.1287702808332\n"
          ]
        }
      ]
    },
    {
      "cell_type": "code",
      "source": [
        "# Updating the data set with all the features needed\n",
        "for column in data.columns:\n",
        "  if column not in selected_features:\n",
        "    data.drop(column, axis=1, inplace=True)\n",
        "data['SalePrice'] = y"
      ],
      "metadata": {
        "id": "S7yFWUblQnoH"
      },
      "execution_count": 316,
      "outputs": []
    },
    {
      "source": [
        "import numpy as np\n",
        "from scipy import stats\n",
        "# Logarithmic transformation (for right-skewed data)\n",
        "data['LogSalePrice'] = np.log(data['SalePrice'])\n",
        "\n",
        "# Square root transformation\n",
        "#data['SqrtSalePrice'] = np.sqrt(data['SalePrice'])\n",
        "\n",
        "# Box-Cox transformation\n",
        "#transformed_data, lambda_value = stats.boxcox(data['SalePrice'])\n",
        "#data['BoxCoxSalePrice'] = transformed_data\n"
      ],
      "cell_type": "code",
      "metadata": {
        "id": "gjK9nalKtp1j"
      },
      "execution_count": 324,
      "outputs": []
    },
    {
      "cell_type": "code",
      "source": [
        "from sklearn.linear_model import LinearRegression\n",
        "from sklearn.model_selection import train_test_split\n",
        "import matplotlib.pyplot as plt\n",
        "import scipy.stats as stats\n",
        "# Define the feature matrix (X) and target variable (y)\n",
        "X = data.drop('SalePrice', axis=1)\n",
        "y = data['SalePrice']\n",
        "# Split the data into training and testing sets\n",
        "X_train, X_test, y_train, y_test = train_test_split(X, y, test_size=0.2, random_state=42)\n",
        "# Create and fit the multiple linear regression model\n",
        "model = LinearRegression()\n",
        "model.fit(X_train, y_train)\n",
        "# Make predictions on the testing set\n",
        "y_pred = model.predict(X_test)\n",
        "# Check for assumptions:\n",
        "\n",
        "# 1. Linearity: Plot predicted values vs. residuals\n",
        "plt.scatter(y_pred, y_test - y_pred)\n",
        "plt.xlabel(\"Predicted Values\")\n",
        "plt.ylabel(\"Residuals\")\n",
        "plt.title(\"Linearity Check\")\n",
        "plt.show()\n",
        "\n",
        "# 2. Normality of residuals: Create a Q-Q plot\n",
        "stats.probplot(y_test - y_pred, dist=\"norm\", plot=plt)\n",
        "plt.title(\"Normality of Residuals (Q-Q Plot)\")\n",
        "plt.show()\n",
        "\n",
        "# 3. Homoscedasticity: Plot predicted values vs. squared residuals\n",
        "plt.scatter(y_pred, (y_test - y_pred)**2)\n",
        "plt.xlabel(\"Predicted Values\")\n",
        "plt.ylabel(\"Squared Residuals\")\n",
        "plt.title(\"Homoscedasticity Check\")\n",
        "plt.show()\n",
        "\n",
        "# 4. Multicollinearity: Calculate VIF (Variance Inflation Factor)\n",
        "from statsmodels.stats.outliers_influence import variance_inflation_factor\n",
        "vif = [variance_inflation_factor(X.values, i) for i in range(X.shape[1])]\n",
        "print(\"VIF:\", vif)"
      ],
      "metadata": {
        "colab": {
          "base_uri": "https://localhost:8080/",
          "height": 1000
        },
        "id": "lPSZcgJPUHlu",
        "outputId": "04af65d3-770f-4e40-d55b-06b3d000f0c5"
      },
      "execution_count": 325,
      "outputs": [
        {
          "output_type": "display_data",
          "data": {
            "text/plain": [
              "<Figure size 640x480 with 1 Axes>"
            ],
            "image/png": "[encoded data removed]"
          },
          "metadata": {}
        },
        {
          "output_type": "display_data",
          "data": {
            "text/plain": [
              "<Figure size 640x480 with 1 Axes>"
            ],
            "image/png": "[encoded data removed]"
          },
          "metadata": {}
        },
        {
          "output_type": "display_data",
          "data": {
            "text/plain": [
              "<Figure size 640x480 with 1 Axes>"
            ],
            "image/png": "[encoded data removed]"
          },
          "metadata": {}
        },
        {
          "output_type": "stream",
          "name": "stdout",
          "text": [
            "VIF: [5.295692661680478, 35.48681911055991, 15.540529673373674, 46.082093011748, 60.86273239423029, 10000.343076169935, 10347.799159599293, 1.5854730639064891, 4.084224375316551, 26.357569814882567, 4.823274946116505, 42.76452390560625, 2.972688364795122, 2.738147510214967, 11.387583422944175, 1.7767386820849336, 1.9925188329604195, 4409.845636586695]\n"
          ]
        }
      ]
    },
    {
      "cell_type": "code",
      "source": [
        "from sklearn.metrics import mean_squared_error, r2_score\n",
        "from sklearn.metrics import mean_absolute_error\n",
        "from sklearn.metrics import explained_variance_score\n",
        "\n",
        "explained_var = explained_variance_score(y_test, y_pred)\n",
        "print(\"Explained Variance:\", explained_var)\n",
        "mae = mean_absolute_error(y_test, y_pred)\n",
        "\n",
        "mse = mean_squared_error(y_test, y_pred)\n",
        "rmse = mean_squared_error(y_test, y_pred, squared=False)\n",
        "r2 = r2_score(y_test, y_pred)\n",
        "print(\"Mean Absolute Error:\", mae)\n",
        "print(\"Mean Squared Error:\", mse)\n",
        "print(\"Root Mean Squared Error:\", rmse)\n",
        "print(\"R-squared:\", r2)"
      ],
      "metadata": {
        "colab": {
          "base_uri": "https://localhost:8080/"
        },
        "id": "B7Xi6Q5AXq2F",
        "outputId": "f8d1f498-05ce-431f-c537-90df780eb161"
      },
      "execution_count": 326,
      "outputs": [
        {
          "output_type": "stream",
          "name": "stdout",
          "text": [
            "Explained Variance: 0.931347375410111\n",
            "Mean Absolute Error: 10181.176985696733\n",
            "Mean Squared Error: 250376346.2295107\n",
            "Root Mean Squared Error: 15823.284938011788\n",
            "R-squared: 0.9305197557615366\n"
          ]
        }
      ]
    },
    {
      "source": [
        "import statsmodels.api as sm\n",
        "# Add a constant to the feature matrix\n",
        "X = sm.add_constant(X)\n",
        "# Fit the model and get robust standard errors\n",
        "model = sm.OLS(data['SalePrice'], X).fit(cov_type='HC3')  # HC3 is a common robust covariance type\n",
        "# Print the model summary\n",
        "print(model.summary())\n"
      ],
      "cell_type": "code",
      "metadata": {
        "colab": {
          "base_uri": "https://localhost:8080/"
        },
        "id": "ZVOiJCMAXuYI",
        "outputId": "ee8f01d0-edb0-4415-ef00-1e6c6449b76e"
      },
      "execution_count": 327,
      "outputs": [
        {
          "output_type": "stream",
          "name": "stdout",
          "text": [
            "                            OLS Regression Results                            \n",
            "==============================================================================\n",
            "Dep. Variable:              SalePrice   R-squared:                       0.944\n",
            "Model:                            OLS   Adj. R-squared:                  0.943\n",
            "Method:                 Least Squares   F-statistic:                     493.6\n",
            "Date:                Sat, 21 Sep 2024   Prob (F-statistic):               0.00\n",
            "Time:                        18:23:33   Log-Likelihood:                -15980.\n",
            "No. Observations:                1460   AIC:                         3.200e+04\n",
            "Df Residuals:                    1441   BIC:                         3.210e+04\n",
            "Df Model:                          18                                         \n",
            "Covariance Type:                  HC3                                         \n",
            "================================================================================\n",
            "                   coef    std err          z      P>|z|      [0.025      0.975]\n",
            "--------------------------------------------------------------------------------\n",
            "const        -1.563e+06   4.84e+04    -32.258      0.000   -1.66e+06   -1.47e+06\n",
            "MSSubClass     -44.8135     12.212     -3.670      0.000     -68.749     -20.878\n",
            "LotFrontage    -14.6339     31.416     -0.466      0.641     -76.208      46.940\n",
            "LotArea         -0.0338      0.147     -0.230      0.818      -0.322       0.254\n",
            "OverallQual   1183.0254    526.164      2.248      0.025     151.764    2214.287\n",
            "OverallCond  -2401.0625    480.035     -5.002      0.000   -3341.914   -1460.211\n",
            "YearBuilt      -70.7463     21.873     -3.234      0.001    -113.616     -27.876\n",
            "YearRemodAdd    -6.9653     22.928     -0.304      0.761     -51.904      37.974\n",
            "MasVnrArea       9.3235      3.997      2.333      0.020       1.490      17.157\n",
            "BsmtFinSF1      -0.6975      1.277     -0.546      0.585      -3.200       1.805\n",
            "TotalBsmtSF      6.2284      2.051      3.037      0.002       2.209      10.248\n",
            "2ndFlrSF         4.3611      1.890      2.308      0.021       0.657       8.065\n",
            "GrLivArea       -0.5586      1.805     -0.309      0.757      -4.097       2.979\n",
            "BsmtFullBath   935.1009    919.437      1.017      0.309    -866.963    2737.164\n",
            "Fireplaces    -477.7149    633.158     -0.754      0.451   -1718.683     763.253\n",
            "GarageArea      -2.3234      2.459     -0.945      0.345      -7.143       2.497\n",
            "WoodDeckSF       2.0417      3.330      0.613      0.540      -4.485       8.569\n",
            "OpenPorchSF     12.9812      8.909      1.457      0.145      -4.481      30.443\n",
            "LogSalePrice  1.575e+05   4704.732     33.485      0.000    1.48e+05    1.67e+05\n",
            "==============================================================================\n",
            "Omnibus:                      828.053   Durbin-Watson:                   1.922\n",
            "Prob(Omnibus):                  0.000   Jarque-Bera (JB):             7904.818\n",
            "Skew:                           2.503   Prob(JB):                         0.00\n",
            "Kurtosis:                      13.241   Cond. No.                     1.31e+06\n",
            "==============================================================================\n",
            "\n",
            "Notes:\n",
            "[1] Standard Errors are heteroscedasticity robust (HC3)\n",
            "[2] The condition number is large, 1.31e+06. This might indicate that there are\n",
            "strong multicollinearity or other numerical problems.\n"
          ]
        }
      ]
    }
  ]
}